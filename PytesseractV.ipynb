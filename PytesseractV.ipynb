{
 "cells": [
  {
   "cell_type": "code",
   "execution_count": 1,
   "id": "2e3c0b4c",
   "metadata": {},
   "outputs": [],
   "source": [
    "import cv2\n",
    "import re\n",
    "import json\n",
    "from glob import glob\n",
    "from pytesseract import pytesseract"
   ]
  },
  {
   "cell_type": "code",
   "execution_count": 2,
   "id": "d3b36f5e",
   "metadata": {},
   "outputs": [],
   "source": [
    "arqs = sorted(glob(r'patents/*png'))"
   ]
  },
  {
   "cell_type": "code",
   "execution_count": 3,
   "id": "ba4df02c",
   "metadata": {},
   "outputs": [],
   "source": [
    "class Arquive:\n",
    "    def __init__(self, arq):\n",
    "        self.arq = arq\n",
    "        self.text = pytesseract.image_to_string(self.arq)\n",
    "        self.size = len(str(self.text))\n",
    "        self.img = cv2.imread(arq)\n",
    "        self.shape = self.img.shape\n",
    "        self.cut_text = pytesseract.image_to_string(\n",
    "            self.img[int(self.shape[0] / 10):int(self.shape[0] /6), :int(self.shape[1] / 2)])\n",
    "\n",
    "    def get_patent(self):\n",
    "        patent_number = re.compile(r'(?<=Patent N).*')\n",
    "        check = patent_number.findall(self.text)\n",
    "        num = re.compile(r'\\d')\n",
    "        check_num = num.findall(str(check))\n",
    "\n",
    "        return int(''.join(check_num))\n",
    "\n",
    "    def get_dates(self):\n",
    "        patent_date = re.compile(\n",
    "            r'[t|d]:(.?){4}([A-Z]+[a-z]{2}.).([0-9]+.).([0-9]{4})')\n",
    "        check_dates = patent_date.findall(self.text)\n",
    "\n",
    "        patent = (''.join(list(check_dates[1][1:])).replace(',', '-').replace('.', '-').replace('Jan', '1').replace('Feb', '2').replace('Mar', '3').replace('Apr', '4').replace('May', '5').replace('Jun','6').replace('Jul', '7').replace('Aug', '8').replace('Sep', '9').replace('Oct','10').replace('Nov', '11').replace( \"Dec\", '12').replace(' ', '-'))\n",
    "        filed = (''.join(list(check_dates[0][1:])).replace(',', '-').replace('.', '-').replace('Jan', '1').replace('Feb', '2').replace('Mar', '3').replace('Apr', '4').replace('May', '5').replace('Jun','6').replace('Jul', '7').replace('Aug', '8').replace('Sep', '9').replace('Oct','10').replace('Nov', '11').replace( \"Dec\", '12').replace(' ', '-'))\n",
    "        return patent, filed\n",
    "\n",
    "    def get_title(self):\n",
    "        patent_title = re.compile(\n",
    "            r'(?<![, ])[ A-Z|\\-A-Z]?[A-Z]{3,}(?![\\.|a-z|\\]|0-9|])')\n",
    "        check = patent_title.findall(self.cut_text)\n",
    "        return (' '.join(check)).title()\n",
    "\n",
    "    def get_inventor(self):\n",
    "        patent_inventor = re.compile(r'(?<=Inventor:).*')\n",
    "        check = patent_inventor.findall(self.text)\n",
    "        str(check).split(',')\n",
    "        name = check[0].split(',')\n",
    "\n",
    "        return name[0].strip()"
   ]
  },
  {
   "cell_type": "code",
   "execution_count": 4,
   "id": "a7309743",
   "metadata": {},
   "outputs": [],
   "source": [
    "def get_info(arq):\n",
    "    dic = dict()\n",
    "    arqx = Arquive(arq)\n",
    "    filedD, patentD = arqx.get_dates()\n",
    "    dic[\"arq\"]=arqx.arq\n",
    "    dic[\"patent_number\"]=arqx.get_patent()\n",
    "    dic[\"date_of_patent\"]=patentD \n",
    "    dic[\"patent_title\"]=arqx.get_title() \n",
    "    dic[\"inventor_name\"]=arqx.get_inventor()\n",
    "    dic[\"filed_data\"]=filedD\n",
    "    \n",
    "    return dic"
   ]
  },
  {
   "cell_type": "code",
   "execution_count": 5,
   "id": "b191f0f2",
   "metadata": {},
   "outputs": [],
   "source": [
    "with open('patents.json', 'w'):#limpa o arquivo\n",
    "    pass\n",
    "    \n",
    "dic_arr = list()\n",
    "for arq in arqs:\n",
    "    dic_arr.append(get_info(arq))\n",
    "    \n",
    "with open(\"patents.json\", \"a+\") as outfile:#escreve no arquivo\n",
    "    json.dump(dic_arr, outfile)"
   ]
  }
 ],
 "metadata": {
  "kernelspec": {
   "display_name": "Python 3 (ipykernel)",
   "language": "python",
   "name": "python3"
  },
  "language_info": {
   "codemirror_mode": {
    "name": "ipython",
    "version": 3
   },
   "file_extension": ".py",
   "mimetype": "text/x-python",
   "name": "python",
   "nbconvert_exporter": "python",
   "pygments_lexer": "ipython3",
   "version": "3.9.13"
  }
 },
 "nbformat": 4,
 "nbformat_minor": 5
}
