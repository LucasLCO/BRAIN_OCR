{
 "cells": [
  {
   "cell_type": "code",
   "execution_count": 1,
   "id": "8b3ae7cd",
   "metadata": {},
   "outputs": [],
   "source": [
    "#Objetivos\n",
    "# patent number,\n",
    "# date of patent, \n",
    "# patent title, \n",
    "# inventor name\n",
    "# filed data."
   ]
  },
  {
   "cell_type": "code",
   "execution_count": 2,
   "id": "2e3c0b4c",
   "metadata": {},
   "outputs": [],
   "source": [
    "import cv2\n",
    "import re\n",
    "import json\n",
    "import numpy as np\n",
    "from glob import glob\n",
    "from pytesseract import pytesseract\n",
    "import matplotlib.pyplot as plt"
   ]
  },
  {
   "cell_type": "code",
   "execution_count": 3,
   "id": "d3b36f5e",
   "metadata": {},
   "outputs": [],
   "source": [
    "arqs = sorted(glob(r'patents/*png'))"
   ]
  },
  {
   "cell_type": "code",
   "execution_count": 4,
   "id": "ba4df02c",
   "metadata": {},
   "outputs": [],
   "source": [
    "class Arquive:\n",
    "    def __init__(self, arq):\n",
    "        self.arq = arq\n",
    "        self.text = pytesseract.image_to_string(self.arq)\n",
    "        self.size = len(str(self.text))\n",
    "        img = cv2.imread(arq,0)\n",
    "        self.shape = img.shape\n",
    "        self.cut_text = pytesseract.image_to_string(img[:,:int(img.shape[1]/2)])\n",
    "        \n",
    "    def get_patent(self):\n",
    "        patent_number = re.compile(r'(?<=Patent N).*')\n",
    "        check = patent_number.findall(self.text)\n",
    "        num = re.compile(r'\\d')\n",
    "        check_num = num.findall(str(check))\n",
    "        \n",
    "        return int(''.join(check_num))\n",
    "\n",
    "    def get_date(self):\n",
    "        patent_date = re.compile(r'(?<=of Patent:).*')\n",
    "        check = patent_date.findall(self.text)\n",
    "        date = re.compile(r'\\w')\n",
    "        check_date = date.findall(str(check).replace(' ','_'))\n",
    "        \n",
    "        return (''.join(check_date)).replace('_',' ').strip().replace('Jan','1').replace('Feb','2').replace('Mar','3').replace('Apr','4').replace('May','5').replace('Jun','6').replace('Jul','7').replace('Aug','8').replace('Sep','9').replace('Oct','10').replace('Nov','11').replace(\"Dec\",'12').replace(' ','-')\n",
    "\n",
    "    def get_title(self):\n",
    "        patent_title = re.compile(r'(?<=54).*')\n",
    "        check1 = patent_title.findall(self.cut_text)\n",
    "        title = re.compile(r'[A-Z]')\n",
    "        check_title = title.findall(str(check1[0]))\n",
    "        if check_title == []:\n",
    "            check1 = patent_title.findall(self.text)\n",
    "            check_title = title.findall(str(check1[0]))\n",
    "        check1 = check1[0].replace(']','').replace(')','').strip()\n",
    "        patent_title2 = re.compile(f\"(?<={check1}\\n).*\")\n",
    "        check2 = (patent_title2.findall(self.cut_text))\n",
    "        check=check1+' '+check2[0]\n",
    "        for let in check2[0]:\n",
    "            if let in '-.,[]{}()_':\n",
    "                return check1.title()\n",
    "        return check.title()\n",
    "    #check1 para primeira linha, check2 para segunda linha e check para as duas juntas.\n",
    "\n",
    "    def get_inventor(self):\n",
    "        patent_inventor = re.compile(r'(?<=Inventor:).*')\n",
    "        check = patent_inventor.findall(self.text)\n",
    "        str(check).split(',')\n",
    "        name = check[0].split(',')\n",
    "        \n",
    "        return name[0].strip()\n",
    "\n",
    "    def get_filed(self):\n",
    "        filed_date = re.compile(r'(?<=Filed).*')\n",
    "        check = filed_date.findall(self.cut_text)\n",
    "        date = re.compile(r'\\w')\n",
    "        check_date = date.findall(str(check).replace(' ','_'))\n",
    "        if check_date == []:\n",
    "            check = filed_date.findall(self.text)\n",
    "            check_date = date.findall(str(check).replace(' ','_'))\n",
    "\n",
    "        return (''.join(check_date)).replace('_',' ').strip().replace('Jan','1').replace('Feb','2').replace('Mar','3').replace('Apr','4').replace('May','5').replace('Jun','6').replace('Jul','7').replace('Aug','8').replace('Sep','9').replace('Oct','10').replace('Nov','11').replace(\"Dec\",'12').replace(' ','-')"
   ]
  },
  {
   "cell_type": "code",
   "execution_count": null,
   "id": "069f60bc",
   "metadata": {},
   "outputs": [],
   "source": []
  },
  {
   "cell_type": "code",
   "execution_count": 47,
   "id": "a7309743",
   "metadata": {},
   "outputs": [],
   "source": [
    "def get_info(arq):\n",
    "    dic = dict()\n",
    "    arqx = Arquive(arq)\n",
    "    dic[\"arq\"]=arqx.arq\n",
    "    dic[\"patent_number\"]=arqx.get_patent()\n",
    "    dic[\"date_of_patent\"]=arqx.get_date() \n",
    "    dic[\"patent_title\"]=arqx.get_title() \n",
    "    dic[\"inventor_name\"]=arqx.get_inventor()\n",
    "    dic[\"filed_data\"]=arqx.get_filed()\n",
    "    \n",
    "    return dic"
   ]
  },
  {
   "cell_type": "code",
   "execution_count": null,
   "id": "97900119",
   "metadata": {},
   "outputs": [],
   "source": [
    "with open('patents.json', 'w'):#limpa o arquivo\n",
    "    pass\n",
    "    \n",
    "dic_arr = list()\n",
    "for arq in arqs:\n",
    "    dic_arr.append(get_info(arq))\n",
    "    \n",
    "with open(\"patents.json\", \"a+\") as outfile:#escreve no arquivo\n",
    "    json.dump(dic_arr, outfile)"
   ]
  }
 ],
 "metadata": {
  "kernelspec": {
   "display_name": "Python 3 (ipykernel)",
   "language": "python",
   "name": "python3"
  },
  "language_info": {
   "codemirror_mode": {
    "name": "ipython",
    "version": 3
   },
   "file_extension": ".py",
   "mimetype": "text/x-python",
   "name": "python",
   "nbconvert_exporter": "python",
   "pygments_lexer": "ipython3",
   "version": "3.9.13"
  }
 },
 "nbformat": 4,
 "nbformat_minor": 5
}
