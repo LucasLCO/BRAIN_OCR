{
 "cells": [
  {
   "cell_type": "code",
   "execution_count": 1,
   "id": "2e3c0b4c",
   "metadata": {},
   "outputs": [],
   "source": [
    "import cv2\n",
    "from PIL import Image\n",
    "from pytesseract import pytesseract\n",
    "import os\n",
    "import re"
   ]
  },
  {
   "cell_type": "code",
   "execution_count": 153,
   "id": "ba4df02c",
   "metadata": {},
   "outputs": [],
   "source": [
    "def get_text():\n",
    "    path_to_images = r'patents/' \n",
    "    for root, dirs, file_names in os.walk(path_to_images):\n",
    "        #Iterate over each file_name in the folder\n",
    "        for file_name in file_names:\n",
    "            #Open image with PIL\n",
    "            img = Image.open(path_to_images + file_name)\n",
    "            print(path_to_images + file_name)\n",
    "            #Extract text from image\n",
    "            text =  pytesseract.image_to_string(img)\n",
    "            patent_number = re.compile(r'Patent Number...........')\n",
    "            check = patent_number.findall(text)\n",
    "            if check == []:\n",
    "                patent_number = re.compile('Patent No...............')\n",
    "                check = patent_number.findall(text)\n",
    "           # num = re.compile(r'\\d')\n",
    "            #check_num = num.findall(check)\n",
    "            print(check)"
   ]
  },
  {
   "cell_type": "code",
   "execution_count": 154,
   "id": "2ec4f773",
   "metadata": {},
   "outputs": [
    {
     "name": "stdout",
     "output_type": "stream",
     "text": [
      "patents/document-000-104213.in.000.png\n",
      "['Patent Number: 4,842,269']\n",
      "patents/document-003-104691.in.000.png\n",
      "['Patent Number: 5,044,627']\n",
      "patents/document-004-104802.in.000.png\n",
      "['Patent Number: 4,852,779']\n",
      "patents/document-005-104980.in.000.png\n",
      "['Patent No.: US 6,491,606']\n",
      "patents/document-006-105103.in.000.png\n",
      "['Patent Number: 4,979,759']\n",
      "patents/document-007-105262.in.000.png\n",
      "['Patent Number: 5,318,344']\n",
      "patents/document-008-105364.in.000.png\n",
      "['Patent Number: 5,720,518']\n",
      "patents/document-013-106007.in.000.png\n",
      "['Patent Number: Des. 344,']\n",
      "patents/document-015-106205.in.000.png\n",
      "['Patent Number: 5,476,202']\n",
      "patents/document-016-106346.in.000.png\n",
      "['Patent Number: 4,863,182']\n"
     ]
    }
   ],
   "source": [
    "get_text()"
   ]
  },
  {
   "cell_type": "code",
   "execution_count": null,
   "id": "a7693e30",
   "metadata": {},
   "outputs": [],
   "source": [
    "def get_text():\n",
    "    path_to_images = r'patents/' \n",
    "    for root, dirs, file_names in os.walk(path_to_images):\n",
    "        #Iterate over each file_name in the folder\n",
    "        for file_name in file_names:\n",
    "            #Open image with PIL\n",
    "            img = Image.open(path_to_images + file_name)\n",
    "            print(path_to_images + file_name)\n",
    "            #Extract text from image\n",
    "            text =  pytesseract.image_to_string(img)\n",
    "            patent_number = re.compile('Patent Number....................')\n",
    "            check = patent_number.findall(text)\n",
    "            if check == []:\n",
    "                patent_number = re.compile('Patent No....................')\n",
    "                check = patent_number.findall(text)\n",
    "            num = re.compile(r'\\d')\n",
    "            check_num = num.findall(check)\n",
    "            print(check)\n"
   ]
  }
 ],
 "metadata": {
  "kernelspec": {
   "display_name": "Python 3 (ipykernel)",
   "language": "python",
   "name": "python3"
  },
  "language_info": {
   "codemirror_mode": {
    "name": "ipython",
    "version": 3
   },
   "file_extension": ".py",
   "mimetype": "text/x-python",
   "name": "python",
   "nbconvert_exporter": "python",
   "pygments_lexer": "ipython3",
   "version": "3.9.13"
  }
 },
 "nbformat": 4,
 "nbformat_minor": 5
}
