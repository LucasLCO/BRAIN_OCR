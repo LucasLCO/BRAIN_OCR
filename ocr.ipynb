{
 "cells": [
  {
   "cell_type": "code",
   "execution_count": null,
   "id": "00cee182",
   "metadata": {},
   "outputs": [],
   "source": [
    "#Objetivos\n",
    "# patent number,\n",
    "# date of patent, \n",
    "# patent title, \n",
    "# inventor name\n",
    "# filed data."
   ]
  },
  {
   "cell_type": "code",
   "execution_count": 1,
   "id": "2e3c0b4c",
   "metadata": {},
   "outputs": [],
   "source": [
    "import cv2\n",
    "import re\n",
    "from glob import glob\n",
    "from pytesseract import pytesseract"
   ]
  },
  {
   "cell_type": "code",
   "execution_count": 2,
   "id": "02f10020",
   "metadata": {},
   "outputs": [
    {
     "data": {
      "text/plain": [
       "['patents\\\\document-000-104213.in.000.png',\n",
       " 'patents\\\\document-003-104691.in.000.png',\n",
       " 'patents\\\\document-004-104802.in.000.png',\n",
       " 'patents\\\\document-005-104980.in.000.png',\n",
       " 'patents\\\\document-006-105103.in.000.png',\n",
       " 'patents\\\\document-007-105262.in.000.png',\n",
       " 'patents\\\\document-008-105364.in.000.png',\n",
       " 'patents\\\\document-013-106007.in.000.png',\n",
       " 'patents\\\\document-015-106205.in.000.png',\n",
       " 'patents\\\\document-016-106346.in.000.png']"
      ]
     },
     "execution_count": 2,
     "metadata": {},
     "output_type": "execute_result"
    }
   ],
   "source": [
    "arqs = sorted(glob(r'patents/*png'))\n",
    "arqs"
   ]
  },
  {
   "cell_type": "code",
   "execution_count": 70,
   "id": "ba4df02c",
   "metadata": {},
   "outputs": [],
   "source": [
    "def get_patent(arq):\n",
    "    #Extract text from image\n",
    "    text =  pytesseract.image_to_string(arq)\n",
    "    patent_number = re.compile(r'(?<=Patent N).*')#(?<=Patent Number:).+\n",
    "    check = patent_number.findall(text)\n",
    "    num = re.compile(r'\\d')\n",
    "    check_num = num.findall(str(check))\n",
    "    return int(''.join(check_num))\n",
    "\n",
    "def get_date(arq):\n",
    "    text =  pytesseract.image_to_string(arq)\n",
    "    patent_date = re.compile(r'(?<=of Patent:).*')\n",
    "    check = patent_date.findall(text)\n",
    "    date = re.compile(r'\\w')\n",
    "    check_date = date.findall(str(check).replace(' ','_'))\n",
    "    return (''.join(check_date)).replace('_',' ').strip()\n",
    "\n",
    "def get_title(arq):\n",
    "    text =  pytesseract.image_to_string(arq)\n",
    "    patent_text = re.compile(r'(?<=54).*')\n",
    "    check = patent_text.findall(text)\n",
    "    title = re.compile(r'[A-Z]')\n",
    "    check_title = title.findall(str(check[0]))\n",
    "    return check_title"
   ]
  },
  {
   "cell_type": "code",
   "execution_count": 71,
   "id": "2ec4f773",
   "metadata": {},
   "outputs": [
    {
     "name": "stdout",
     "output_type": "stream",
     "text": [
      "patents\\document-000-104213.in.000.png\n",
      "[']', ' ', 'M', 'U', 'L', 'T', 'I', '-', 'F', 'U', 'N', 'C', 'T', 'I', 'O', 'N', 'A', 'L', ' ', 'S', 'T', 'A', 'T', 'I', 'O', 'N', 'A', 'R', 'Y', ' ', 'B', 'I', 'K', 'E']\n",
      "patents\\document-003-104691.in.000.png\n",
      "[']', ' ', 'M', 'U', 'L', 'T', 'I', '-', 'F', 'U', 'N', 'C', 'T', 'I', 'O', 'N', 'A', 'L', ' ', 'S', 'T', 'A', 'T', 'I', 'O', 'N', 'A', 'R', 'Y', ' ', 'B', 'I', 'K', 'E']\n",
      "patents\\document-004-104802.in.000.png\n",
      "[']', ' ', 'C', 'O', 'L', 'L', 'A', 'P', 'S', 'I', 'B', 'L', 'E', ' ', 'B', 'I', 'K', 'E', ' ', 'R', 'A', 'C', 'K', ' ', 'F', 'O', 'R']\n",
      "patents\\document-005-104980.in.000.png\n",
      "[')', ' ', 'D', 'E', 'V', 'I', 'C', 'E', ' ', 'F', 'O', 'R', ' ', 'C', 'H', 'A', 'N', 'G', 'I', 'N', 'G', ' ', 'P', 'E', 'D', 'A', 'L', ' ', 'L', 'O', 'A', 'D', 'S', ' ', ',', ',', ' ', 'A', ' ', '*', ' ', '/', ' ', 'W', 'a', 'r', 'n', 'e', 'r', ' ', 'e', 't', ' ', 'a', 'l', '.', ' ', 'o', 'u', '.', '.', '.', ' ', '/']\n",
      "patents\\document-006-105103.in.000.png\n",
      "[']', ' ', 'F', 'R', 'E', 'E', '-', 'S', 'T', 'A', 'N', 'D', 'I', 'N', 'G', ' ', 'B', 'I', 'K', 'E', ' ', 'S', 'T', 'A', 'N', 'D']\n",
      "patents\\document-007-105262.in.000.png\n",
      "[']']\n",
      "patents\\document-008-105364.in.000.png\n",
      "[']', ' ', 'U', 'N', 'I', 'V', 'E', 'R', 'S', 'A', 'L', ' ', 'B', 'I', 'K', 'E', ' ', 'A', 'N', 'D', ' ', 'E', 'X', 'E', 'R', 'C', 'Y', 'C', 'L', 'E', ' ', 'S', 'E', 'A', 'T']\n",
      "patents\\document-013-106007.in.000.png\n",
      "[']', ' ', 'E', 'X', 'E', 'R', 'C', 'I', 'S', 'E', ' ', 'B', 'I', 'K', 'E', ' ', 'D', '.', ' ', ' ', ' ', 'i', ' ', 'h', 'o', 'm', 'i', 'e', ' ', 's', 'n', 't', 's', 's', 'n', 's', 'n', 'e', 's', 't', 'e', 'c', 'e', 's', 'e', 'a', 't', 'e', 'e', 's', 'e', 's', 'n', 's', 'e', 's', ' ', 'a', 'y', ' ', 'I', 'o']\n",
      "patents\\document-015-106205.in.000.png\n",
      "['A']\n",
      "patents\\document-016-106346.in.000.png\n",
      "[']', ' ', 'S', 'K', 'A', 'T', 'E', ' ', 'B', 'I', 'K', 'E']\n"
     ]
    }
   ],
   "source": [
    "for arq in arqs:\n",
    "    print(arq)\n",
    "    print(get_title(arq))\n",
    "    "
   ]
  }
 ],
 "metadata": {
  "kernelspec": {
   "display_name": "Python 3 (ipykernel)",
   "language": "python",
   "name": "python3"
  },
  "language_info": {
   "codemirror_mode": {
    "name": "ipython",
    "version": 3
   },
   "file_extension": ".py",
   "mimetype": "text/x-python",
   "name": "python",
   "nbconvert_exporter": "python",
   "pygments_lexer": "ipython3",
   "version": "3.9.13"
  }
 },
 "nbformat": 4,
 "nbformat_minor": 5
}
