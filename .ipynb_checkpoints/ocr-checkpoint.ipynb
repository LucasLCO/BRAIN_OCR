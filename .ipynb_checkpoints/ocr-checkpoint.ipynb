{
 "cells": [
  {
   "cell_type": "code",
   "execution_count": 3,
   "id": "6950b86a",
   "metadata": {},
   "outputs": [],
   "source": [
    "import cv2\n",
    "import pytesseract\n",
    "import numpy as np\n"
   ]
  },
  {
   "cell_type": "code",
   "execution_count": 10,
   "id": "d51e87ab",
   "metadata": {},
   "outputs": [],
   "source": [
    "# get grayscale image\n",
    "def get_grayscale(image):\n",
    "    return cv2.cvtColor(image, cv2.COLOR_BGR2GRAY)\n",
    "\n",
    "# noise removal\n",
    "def remove_noise(image):\n",
    "    return cv2.medianBlur(image,5)\n",
    " \n",
    "#thresholding\n",
    "def thresholding(image):\n",
    "    return cv2.threshold(image, 0, 255, cv2.THRESH_BINARY + cv2.THRESH_OTSU)[1]\n",
    "\n",
    "#dilation\n",
    "def dilate(image):\n",
    "    kernel = np.ones((5,5),np.uint8)\n",
    "    return cv2.dilate(image, kernel, iterations = 1)\n",
    "    \n",
    "#erosion\n",
    "def erode(image):\n",
    "    kernel = np.ones((5,5),np.uint8)\n",
    "    return cv2.erode(image, kernel, iterations = 1)\n",
    "\n",
    "#opening - erosion followed by dilation\n",
    "def opening(image):\n",
    "    kernel = np.ones((5,5),np.uint8)\n",
    "    return cv2.morphologyEx(image, cv2.MORPH_OPEN, kernel)\n",
    "\n",
    "#canny edge detection\n",
    "def canny(image):\n",
    "    return cv2.Canny(image, 100, 200)\n",
    "\n",
    "#skew correction\n",
    "def deskew(image):\n",
    "    coords = np.column_stack(np.where(image > 0))\n",
    "    angle = cv2.minAreaRect(coords)[-1]\n",
    "    if angle < -(45):\n",
    "        angle = -(90 + angle)\n",
    "    else:\n",
    "        angle = -angle\n",
    "    (h, w) = image.shape[:2]\n",
    "    center = (w // 2, h // 2)\n",
    "    M = cv2.getRotationMatrix2D(center, angle, 1.0)\n",
    "    rotated = cv2.warpAffine(image, M, (w, h), flags=cv2.INTER_CUBIC, borderMode=cv2.BORDER_REPLICATE)\n",
    "    return rotated\n",
    "\n",
    "#template matching\n",
    "def match_template(image, template):\n",
    "    return cv2.matchTemplate(image, template, cv2.TM_CCOEFF_NORMED) "
   ]
  },
  {
   "cell_type": "code",
   "execution_count": 12,
   "id": "078e6758",
   "metadata": {},
   "outputs": [
    {
     "data": {
      "text/plain": [
       "'pe. Video de Voo\\npune? Ys (0, Apresentagao Oral I\\n‘24% Competicao SAE BRASIL de Aerodesign - 20922 - Relatorio, Apr sl ais pon SS vo\\nLa eee ee = ee\\nEn ee ne ee ES\\noe Ld poco nt = ee EE on\\n|| =— - i Sn a  entuee e t\\na Seen ee Oe Ie eee eee ee ee ee ae ee\\nNee eee ee eee ee ee Oe ee ee a eee ees\\na a Te Te\\na ee\\na ee A Le a a\\nSe a\\n‘ae ‘woe aS TO SNL en mn RTT ER\\n= acai ae SEE ES ah eT\\nee ee ae\\nen ee\\na a\\nSee eee eee es essen ee ee CT Ce?\\n= wenn a Seen ee et ment amen mnt a\\nr= =o Reerieererethay C—O CT TS es\\neee Se re ea Sy\\na a a a a\\nSe ee a a\\neS\\nSea een SN A\\nNe memenrectersracten eu weet m3 a\\noa a a VC\\n3 hea eae a oe NA A A, ANAS ese a iR Sg SRDS  e e eon an — wR\\n* SSEe ee eee ceeetinenaesicientinen tone aan\\ni\\n1 eT\\ni\\n2S SR UPS LESRRSRRN TT StS ThE cami cometh San = teagan menhasoriaton ae eae sma\\nSe ei, EERE kG kf iRcemn smite mmf mila ab mention\\nSecs WeetiSenct SANSA SEMEN SEI hc) teh homme tin 5 a an EAE\\na Cored men mR AR hgh mgr aR oan ens\\nfeomeas  Aouaee ro eaeeinemmam anti ae Ae A Oe a a a i oe nT ee eee\\na ae\\nSmtetietttine cetoecvrmcrnr cients FR nm timo HR AS hentia htm =item\\na ee a A\\nSS Ee eet meth atest ith ae tm idl arms\\nSani A eT\\nSra a i aT\\nea Cth vse cree eee eee\\nLe Le\\nwee emo hem kd ok en\\n= — Seen et en die\\n—— — A eC Sea te7o-\\nVSS Cite ueescaeescame caer coerce eee cerca a\\nEE —_——_SS—: ic ih—mmaiiaen ‘amm—citaeiieitendifenitiieniaeenistentsineniaaetineniaaeeiseotees\\n——————— ———— ee ee\\na= A NNN ii iam i nl mesma\\n—\\n'"
      ]
     },
     "execution_count": 12,
     "metadata": {},
     "output_type": "execute_result"
    }
   ],
   "source": [
    "img = cv2.imread(\"WhatsApp-Image-2022-11-03-at-16.41.35.png\")\n",
    "gray = grayscale(img)\n",
    "thresh = thresholding(gray)\n",
    "opening = opening(gray)\n",
    "canny = canny(gray)"
   ]
  },
  {
   "cell_type": "code",
   "execution_count": 14,
   "id": "e1946b5f",
   "metadata": {},
   "outputs": [
    {
     "data": {
      "text/plain": [
       "'‘24% Competigao SAE BRASIL de Aerodesign - 20922 - Relatorio, ‘Apresentacao Oral e Video de Voo a flues lil\\naoe ; aS ie ee ee\\ni 2a ISS eS SS ee\\nee ee = =\\n—— Te eT TS a\\na eae SS in LTS a\\noe ee Cr a\\na —\\na\\n——————\\nSee ee\\na = —————_— ——- ——\\n——— ——— TV Va\\n——————————— —\\n—— a Ce\\n———— —— = oe eee\\n—— oo ae ee es \"2 tS eres 00 20 oe nm\\n| = _\\n———————— Seite i Ri Staaten a ert\\nana eee SE eee a a a a a a a\\nTEE Si. coe A cee semen ioiej citmeirinmreiemdsreemtoie Seniesa ieee\\na\\nSS a ee a\\na CCA ‘\\nSe ee ee ee ee See\\na a\\n\\\\ — ha aR ee ee :\\n= Secrest, SS emt ii thsi oad ntti \"3\\nSenet icone Milestones\\nSeesmic anes eT SS tote ga atoeamemttieias\\na a \"\\n——— ei Lise ‘ikeatscanendizeenitoetiectioetertsoet eet estes\\n————————————— SS\\ni — Sh hate Sh tinea Stee ea\\na SS\\n_ °° § . oY\\n'"
      ]
     },
     "execution_count": 14,
     "metadata": {},
     "output_type": "execute_result"
    }
   ],
   "source": [
    "custom_config = r'--oem 3 --psm 6'\n",
    "pytesseract.image_to_string(gray, config=custom_config)"
   ]
  },
  {
   "cell_type": "code",
   "execution_count": 15,
   "id": "bdded8a5",
   "metadata": {},
   "outputs": [
    {
     "data": {
      "text/plain": [
       "'‘24% Competigio SAE BRASIL de Aerodesign - 20922 -Relatorio, Apresentacao Oral # Video de Voo _ — _\\nsee j . ieee aa\\ni 1S eee eee\\ni. EEE SO OD EG eee Ee ER ERS SS ee =:\\noS TEE OF EOS Sob cede GOR EE SG 2 me ie gy me |\\n[Eh Use. “Greaney Sakae pie cee on ten ane ee oe ee\\n‘2 SESS bf 2b oN S eee COR Se PEE S wep oe ee mf\\n‘3 SEES f fb ob EB eee FP ERE ERE ERE SS oe\\n= S “Ee” «6 cE EE Bee eB ER EEE SE Be Ba\\n‘2 SS See Eb ee ee EE ee\\nee ee ee a ee ee\\n= = eee me me\\nee al\\nee — en\\nSSS i eee\\n—— — = —— ee\\nee wee Se ee ee \": ea ey ms 1 os —_\\nfe = ————— 4\\n————————— La a\\nCSS —en <2 Jk. 2am —— LA RA I nm\\nSCO rac ee le a a aan\\n2 = 1 i i ee eS\\nSSS SSS ES 2 he mentee eile ieee iomsiteeiieeiventooet\\nSee, | eaimectead” kth 2 Ramm elem mntiimeemedtemntceocioniiotaetipeentifees asian :\\nSee acco aceon Ft Uk Meee eet HR — —Lhernihaetsoentet terme once\\n<a ee Se a\\n‘ a Sereno A meen eve be oh =r remem n\\nare eisoaiocr = Sek elie SN thers: :cnaane a\\nSE ee eee a\\na Be rca ee cs\\nPcie eS k: emmm SANS —ir—~ ere SRO i\\nSwe? dome og ome oe Se on eee eerie eee ee\\nSS\\neRe awe es Te I ee eeeller-aeeerrseeeh\\n— i ee eS mei ae ah ere n\\na . o\\n'"
      ]
     },
     "execution_count": 15,
     "metadata": {},
     "output_type": "execute_result"
    }
   ],
   "source": [
    "pytesseract.image_to_string(thresh, config=custom_config)"
   ]
  },
  {
   "cell_type": "code",
   "execution_count": 16,
   "id": "e7a0a949",
   "metadata": {},
   "outputs": [
    {
     "data": {
      "text/plain": [
       "'/\\n\\n<_ SS |\\na 2 ee =<\\nPES -SEGGIESE ESET TEiiti LS\\nPe ee See ees sseset: titties:\\n—————— —3 5 PSEECEE =i\\nPe me SESS ES SSSSS IIE EEE IES Ss\\npe oe ESESSSSSSSSIIIEIISELLE\\nFS ESSESSSLLFLLL=Fis\\n——— FB HHA\\n\\n5 SEeGriiiiii:\\n=~ ages: =: BStrcsicce: =\\n\\n= SS SBREET ite: 22225\\n'"
      ]
     },
     "execution_count": 16,
     "metadata": {},
     "output_type": "execute_result"
    }
   ],
   "source": [
    "pytesseract.image_to_string(opening, config=custom_config)"
   ]
  },
  {
   "cell_type": "code",
   "execution_count": 17,
   "id": "bf0b2bb3",
   "metadata": {},
   "outputs": [
    {
     "data": {
      "text/plain": [
       "'a - ode Yea\\nafRalsiésta, Apicsaatagie Ors) 6 Video =\\n26? Commputighs SAE BRAG da Aaecuslgn « 2 / iGo, A _ See) Za\\n7 oe SS Se\\n: el See See\\n| | = = + fo) > PS peel eet 9 ee ee ee\\nA ad IL as 5 eT oe .\\ni. ES — Ea ee ee me ee a\\ngg! — ees SS a es ee ee ee a ee ee\\n(eS eS ee ee ee ee a ee\\na ee ee ee ee ee ee ee ee ee ee\\nDamper SO 2 i ete few 68 ies _G t a *\\nee eee a a —— a a a ee ee .\\nie ee eee ee ee ee ee ee ee ee\\n8 aa Ines = pied a a aK 1386 = mn _e aa es\\nia ie ee ee ee ee ec)\\n1 ae ee eae ke ee — a ee ee\\n= a a ee eee ee ea es\\n=e =ES> Gee eee dae yk tg ee een ICS Be fo ea pp oe Se ee ee ee\\nnn a ee ee\\n——— —— —# coe ee fee\\ncS Se Se ee faa ee ee ee\\n$e co ee ee oe ee ee ee ee ae ee ee\\n(= ee See ee ee ee oe ee eg\\nen a ee if an es a ase ee oie\\noo ee ee a a a a ee\\n0 SS ee “eee ee ee ee ee eee ee ee ee ee\\né a ee ee a ee ee\\neS ee SS eS ee ee eS\\na a — ——— Foe ee en 8 Be eset\\nee ee ee ee ee eee ee ee ee\\nee ee a ee ee a aa\\nSe es ee nee eee eee =\\nee eS ee ee =\\nSS ee ee ee ee ee a eee\\neee aes ean ommemmiomie Fey ee ee ee\\na SS, See ee ee ee ee ee ee eee Se ee\\n(es Se ee oe ee ee ee ee es ee\\nGee ——— ee a ee fe SG\\nRES oie ee Oe ee a ne Sa ae Se\\nee ee OS Se = | eS ee .\\nee ey — ee ee ee ee ee\\nee eee a — se ee a —\\nee ===> =5 es === = = fea —— 3D\\nRs a Sr A ‘ars net BS tie tsa e igs ase GEC a ao\\nee === == a a ee a\\n=e} —— eat orp ir “a ry, ct Fs ee i or qe oe Se iv: J3s en Se ees\\neee ee ee a\\neee SS Sees ae te go ese ee oe net eee ee Gon\\n® Gas ee Ss ff & ge Cee a ie @ se oo ao my an mw nef ny ee\\nee ee ee a ee ee ee _\\nSee «ems eo aoles Soe ee 1 Gl és 9h te a ee =\\n32s So aio eee se ee ee ee ee eee Se\\nee ee ee a a ae ee eH 2 ee 2 ee oe\\na 3 ee aes] so a, gt co Ae, om 3h _GF2 0 tej oe) Ge gea ea\\n2s ae eaemenere 2 s&h ee ee a ee Se\\nSef se See ee 2 Sf Sed ee eee eee ee\\na ee eS eS Se eS SS SS ee\\nSe ee a ee ee en = ie ve eee ee ge oe\\nee ee ee ee: 8 ee a oe eee\\nES See 8 a ee a ee ee fee EPs\\na SS\\nee 8 ee ee ee\\npe a ee ee ee 3 oe eo te ae os Soe ae\\nSa Sg Sees at i a ee ee ee ee ee ee et\\npa ee ee ee eS ee 2\\n2S Sea Oe Se ee ee ee oe goa o> SE ep\\n=i =e sa ss 2 Soe ee ee Sie Bee See\\nee ee ee = ee ee\\nSS nn ee ee ee a = ee\\na ee ee ee ee ey\\nSS SSeS ee oe ee ee\\nSe EE a eae eae sm fs—ea Be\\nSee GS 8 ee a es\\na — ee ee ee ee ee ens\\neee ee ee ee\\n“SS s 8 BOE ee OU Eee ee ee 8\\nval\\n'"
      ]
     },
     "execution_count": 17,
     "metadata": {},
     "output_type": "execute_result"
    }
   ],
   "source": [
    "pytesseract.image_to_string(canny, config=custom_config)"
   ]
  }
 ],
 "metadata": {
  "kernelspec": {
   "display_name": "Python 3 (ipykernel)",
   "language": "python",
   "name": "python3"
  },
  "language_info": {
   "codemirror_mode": {
    "name": "ipython",
    "version": 3
   },
   "file_extension": ".py",
   "mimetype": "text/x-python",
   "name": "python",
   "nbconvert_exporter": "python",
   "pygments_lexer": "ipython3",
   "version": "3.9.13"
  }
 },
 "nbformat": 4,
 "nbformat_minor": 5
}
