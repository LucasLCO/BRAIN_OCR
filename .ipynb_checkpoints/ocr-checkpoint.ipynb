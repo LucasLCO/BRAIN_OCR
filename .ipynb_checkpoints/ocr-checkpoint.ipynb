{
 "cells": [
  {
   "cell_type": "code",
   "execution_count": 4,
   "id": "2e3c0b4c",
   "metadata": {},
   "outputs": [],
   "source": [
    "import cv2\n",
    "from glob import glob\n",
    "from pytesseract import pytesseract\n",
    "import re"
   ]
  },
  {
   "cell_type": "code",
   "execution_count": 8,
   "id": "982b49e5",
   "metadata": {},
   "outputs": [
    {
     "data": {
      "text/plain": [
       "['patents\\\\document-000-104213.in.000.png',\n",
       " 'patents\\\\document-003-104691.in.000.png',\n",
       " 'patents\\\\document-004-104802.in.000.png',\n",
       " 'patents\\\\document-005-104980.in.000.png',\n",
       " 'patents\\\\document-006-105103.in.000.png',\n",
       " 'patents\\\\document-007-105262.in.000.png',\n",
       " 'patents\\\\document-008-105364.in.000.png',\n",
       " 'patents\\\\document-013-106007.in.000.png',\n",
       " 'patents\\\\document-015-106205.in.000.png',\n",
       " 'patents\\\\document-016-106346.in.000.png']"
      ]
     },
     "execution_count": 8,
     "metadata": {},
     "output_type": "execute_result"
    }
   ],
   "source": [
    "arqs = sorted(glob(r'patents/*png'))\n",
    "arqs"
   ]
  },
  {
   "cell_type": "code",
   "execution_count": 19,
   "id": "ba4df02c",
   "metadata": {},
   "outputs": [],
   "source": [
    "def get_text():\n",
    "    path_to_images = r'patents/' \n",
    "    for arq in arqs:\n",
    "        print(arq)\n",
    "        #Extract text from image\n",
    "        text =  pytesseract.image_to_string(arq)\n",
    "        patent_number = re.compile(r'(?<=Patent).+')#(?<=Patent Number:).+\n",
    "        check = patent_number.findall(text)\n",
    "       # num = re.compile(r'\\d')\n",
    "        #check_num = num.findall(check)\n",
    "        print(check)"
   ]
  },
  {
   "cell_type": "code",
   "execution_count": null,
   "id": "2ec4f773",
   "metadata": {},
   "outputs": [
    {
     "name": "stdout",
     "output_type": "stream",
     "text": [
      "patents\\document-000-104213.in.000.png\n",
      "[' 15', ' Number: 4,842,269', ': Jun. 27, 1989']\n",
      "patents\\document-003-104691.in.000.png\n",
      "[' ti', ' Number: 5,044,627', ': ~ Sep. 3, 1991']\n",
      "patents\\document-004-104802.in.000.png\n",
      "[' 15', ' Number: 4,852,779', ': Aug. 1, 1989']\n",
      "patents\\document-005-104980.in.000.png\n",
      "[' (10) Patent No.: US 6,491,606 B1', ': Dec. 10, 2002']\n",
      "patents\\document-006-105103.in.000.png\n",
      "[' .»', ' Number: 4,979,759', ': Dec. 25, 1990']\n",
      "patents\\document-007-105262.in.000.png\n",
      "[' 19', ' Service Center, P.O. Box', ' Number: 5,318,344', ': Jun. 7, 1994']\n",
      "patents\\document-008-105364.in.000.png\n",
      "[' 119', ' Number: 5,720,518', ': Feb. 24, 1998']\n",
      "patents\\document-013-106007.in.000.png\n"
     ]
    }
   ],
   "source": [
    "get_text()"
   ]
  }
 ],
 "metadata": {
  "kernelspec": {
   "display_name": "Python 3 (ipykernel)",
   "language": "python",
   "name": "python3"
  },
  "language_info": {
   "codemirror_mode": {
    "name": "ipython",
    "version": 3
   },
   "file_extension": ".py",
   "mimetype": "text/x-python",
   "name": "python",
   "nbconvert_exporter": "python",
   "pygments_lexer": "ipython3",
   "version": "3.9.13"
  }
 },
 "nbformat": 4,
 "nbformat_minor": 5
}
